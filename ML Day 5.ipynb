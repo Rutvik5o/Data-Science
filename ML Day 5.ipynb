{
 "cells": [
  {
   "cell_type": "markdown",
   "id": "9c3ce060-d037-40d0-aeb7-5152cf3a24e1",
   "metadata": {},
   "source": [
    "## ML Day 5 "
   ]
  },
  {
   "cell_type": "code",
   "execution_count": 2,
   "id": "036504fb-c651-4c0f-a15c-951b7d34e869",
   "metadata": {},
   "outputs": [],
   "source": [
    "import pandas as pd\n",
    "import requests\n",
    "from bs4 import BeautifulSoup"
   ]
  },
  {
   "cell_type": "markdown",
   "id": "be1d7522-4c2b-4cb8-b7fb-cafee37c644b",
   "metadata": {},
   "source": [
    "# defining \"soup\" as Beautiful soap libarary"
   ]
  },
  {
   "cell_type": "code",
   "execution_count": null,
   "id": "1924854f-4670-4b8f-977d-3117a9dae81c",
   "metadata": {},
   "outputs": [],
   "source": [
    "headers={ 'User-Agent': 'Mozilla/5.0 (Windows NT 6.3; Win64; x64) AppleWebKit/537.36 (KHTML, like Gecko) Chrome/80.0.3987.162 Safari/537.36'}\n",
    "webpage=requests.get('https://www.ambitionbox.com/list-of-companies?page=1',headers=headers).text"
   ]
  },
  {
   "cell_type": "code",
   "execution_count": null,
   "id": "f28fa6fa-cc1e-403b-ad30-be4c6f352cdd",
   "metadata": {},
   "outputs": [],
   "source": [
    "soup=BeautifulSoup(webpage,'lxml')\n",
    "\n"
   ]
  },
  {
   "cell_type": "code",
   "execution_count": null,
   "id": "fb5094f2-0090-402f-bb71-fbd9e83ce47f",
   "metadata": {},
   "outputs": [],
   "source": [
    "print(soup.prettify())"
   ]
  },
  {
   "cell_type": "code",
   "execution_count": null,
   "id": "8d54ba7d-1290-41d5-86e0-fbf92124887c",
   "metadata": {},
   "outputs": [],
   "source": [
    "for n in soup.find_all('h1'):\n",
    " print(n.text.strip())"
   ]
  },
  {
   "cell_type": "code",
   "execution_count": 1,
   "id": "2ff42fd1-4111-4f2d-862e-5c9973843f3c",
   "metadata": {},
   "outputs": [
    {
     "ename": "NameError",
     "evalue": "name 'soup' is not defined",
     "output_type": "error",
     "traceback": [
      "\u001b[1;31m---------------------------------------------------------------------------\u001b[0m",
      "\u001b[1;31mNameError\u001b[0m                                 Traceback (most recent call last)",
      "Cell \u001b[1;32mIn[1], line 1\u001b[0m\n\u001b[1;32m----> 1\u001b[0m \u001b[38;5;28;01mfor\u001b[39;00m k \u001b[38;5;129;01min\u001b[39;00m \u001b[43msoup\u001b[49m\u001b[38;5;241m.\u001b[39mfind_all(\u001b[38;5;124m'\u001b[39m\u001b[38;5;124mspan\u001b[39m\u001b[38;5;124m'\u001b[39m,class_\u001b[38;5;241m=\u001b[39m\u001b[38;5;124m'\u001b[39m\u001b[38;5;124mcompanyCardWrapper__companyRatingValue\u001b[39m\u001b[38;5;124m'\u001b[39m):\n\u001b[0;32m      2\u001b[0m  \u001b[38;5;28mprint\u001b[39m(k\u001b[38;5;241m.\u001b[39mtext\u001b[38;5;241m.\u001b[39mstrip())\n",
      "\u001b[1;31mNameError\u001b[0m: name 'soup' is not defined"
     ]
    }
   ],
   "source": [
    "for k in soup.find_all('span',class_='companyCardWrapper__companyRatingValue'):\n",
    " print(k.text.strip())"
   ]
  },
  {
   "cell_type": "code",
   "execution_count": null,
   "id": "29fbddc8-399b-470d-a3d3-3da190985448",
   "metadata": {},
   "outputs": [],
   "source": []
  }
 ],
 "metadata": {
  "kernelspec": {
   "display_name": "Python 3 (ipykernel)",
   "language": "python",
   "name": "python3"
  },
  "language_info": {
   "codemirror_mode": {
    "name": "ipython",
    "version": 3
   },
   "file_extension": ".py",
   "mimetype": "text/x-python",
   "name": "python",
   "nbconvert_exporter": "python",
   "pygments_lexer": "ipython3",
   "version": "3.12.7"
  }
 },
 "nbformat": 4,
 "nbformat_minor": 5
}
