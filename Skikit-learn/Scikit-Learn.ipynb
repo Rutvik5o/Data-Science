{
 "cells": [
  {
   "cell_type": "code",
   "execution_count": 3,
   "id": "600f2d32-4364-4106-b2c8-be81ea159779",
   "metadata": {},
   "outputs": [
    {
     "name": "stdout",
     "output_type": "stream",
     "text": [
      "Defaulting to user installation because normal site-packages is not writeable\n",
      "Requirement already satisfied: scikit-learn in e:\\anaconda\\lib\\site-packages (1.4.2)\n",
      "Requirement already satisfied: numpy>=1.19.5 in e:\\anaconda\\lib\\site-packages (from scikit-learn) (1.26.4)\n",
      "Requirement already satisfied: scipy>=1.6.0 in e:\\anaconda\\lib\\site-packages (from scikit-learn) (1.13.1)\n",
      "Collecting joblib>=1.2.0 (from scikit-learn)\n",
      "  Using cached joblib-1.5.1-py3-none-any.whl.metadata (5.6 kB)\n",
      "Requirement already satisfied: threadpoolctl>=2.0.0 in e:\\anaconda\\lib\\site-packages (from scikit-learn) (2.2.0)\n",
      "Using cached joblib-1.5.1-py3-none-any.whl (307 kB)\n",
      "Installing collected packages: joblib\n",
      "  Attempting uninstall: joblib\n",
      "    Found existing installation: joblib 1.1.1\n",
      "    Uninstalling joblib-1.1.1:\n",
      "      Successfully uninstalled joblib-1.1.1\n",
      "Successfully installed joblib-1.5.1\n",
      "Note: you may need to restart the kernel to use updated packages.\n"
     ]
    },
    {
     "name": "stderr",
     "output_type": "stream",
     "text": [
      "ERROR: pip's dependency resolver does not currently take into account all the packages that are installed. This behaviour is the source of the following dependency conflicts.\n",
      "pandas-profiling 3.2.0 requires joblib~=1.1.0, but you have joblib 1.5.1 which is incompatible.\n",
      "pandas-profiling 3.2.0 requires visions[type_image_path]==0.7.4, but you have visions 0.7.6 which is incompatible.\n"
     ]
    }
   ],
   "source": [
    "pip install scikit-learn\n"
   ]
  },
  {
   "cell_type": "markdown",
   "id": "f3a69261-cf71-43ea-997e-7174a94149e7",
   "metadata": {},
   "source": [
    "## Can we predict if a fruit in an apple or orange?"
   ]
  },
  {
   "cell_type": "markdown",
   "id": "0a62d36f-b3cc-458e-8672-2af3d8a30689",
   "metadata": {},
   "source": [
    "### ML Algorithum"
   ]
  },
  {
   "cell_type": "code",
   "execution_count": 23,
   "id": "ca6cd765-458f-4f16-a779-9f25cb91f1a9",
   "metadata": {},
   "outputs": [],
   "source": [
    "from sklearn.tree import DecisionTreeClassifier\n",
    "from sklearn import tree\n"
   ]
  },
  {
   "cell_type": "code",
   "execution_count": 25,
   "id": "c7d5ced0-0e7e-4964-8eb8-92280e3cb35b",
   "metadata": {},
   "outputs": [],
   "source": [
    "features = [\n",
    "    [150,0],\n",
    "    [170,0],\n",
    "    [130,1],\n",
    "    [120,1],\n",
    "]\n",
    "\n",
    "#Feature : [ weight{gram),color (0 = red,1=orange)]"
   ]
  },
  {
   "cell_type": "code",
   "execution_count": 27,
   "id": "61e2ebed-28bd-420d-88ac-5c1ecb6540cb",
   "metadata": {},
   "outputs": [],
   "source": [
    "labels = [\"apple\",\"apple\",\"orange\",\"orange\"]"
   ]
  },
  {
   "cell_type": "code",
   "execution_count": 33,
   "id": "cbf0f41b-84f9-497f-8fa4-5b5d03396be7",
   "metadata": {},
   "outputs": [],
   "source": [
    "#Training a model\n",
    "clf = tree.DecisionTreeClassifier()\n",
    "clf = clf.fit(features,labels)"
   ]
  },
  {
   "cell_type": "code",
   "execution_count": 59,
   "id": "5615f8b2-ce29-4baa-bef6-00e4c6893544",
   "metadata": {},
   "outputs": [
    {
     "name": "stdout",
     "output_type": "stream",
     "text": [
      "Data According Fruit is -> ['apple']\n"
     ]
    }
   ],
   "source": [
    "#Predict\n",
    "\n",
    "print(\"Data According Fruit is ->\",clf.predict([[160,0]]))\n",
    "#Heavy & red-ish? probably an apple"
   ]
  },
  {
   "cell_type": "code",
   "execution_count": 57,
   "id": "27d3a7e9-191e-4bf7-8f2f-b1a69eef5dd0",
   "metadata": {},
   "outputs": [
    {
     "name": "stdout",
     "output_type": "stream",
     "text": [
      "Data According Fruit is -> ['orange']\n"
     ]
    }
   ],
   "source": [
    "print(\"Data According Fruit is ->\",clf.predict([[115,1]]))"
   ]
  },
  {
   "cell_type": "code",
   "execution_count": 45,
   "id": "40e53e3e-84da-4c8a-a2ce-1dc91543bed0",
   "metadata": {},
   "outputs": [],
   "source": [
    "#Light & Orange? Probably an orange"
   ]
  },
  {
   "cell_type": "code",
   "execution_count": 49,
   "id": "aac73bf2-6864-47df-acb9-e2516b93f216",
   "metadata": {},
   "outputs": [
    {
     "name": "stdout",
     "output_type": "stream",
     "text": [
      "Data According Fruit is -> ['orange']\n"
     ]
    }
   ],
   "source": [
    "print(\"Data According Fruit is ->\",clf.predict([[34,0]]))"
   ]
  },
  {
   "cell_type": "code",
   "execution_count": null,
   "id": "82288237-f14a-486d-b9f2-e516696a48d8",
   "metadata": {},
   "outputs": [],
   "source": []
  }
 ],
 "metadata": {
  "kernelspec": {
   "display_name": "Python 3 (ipykernel)",
   "language": "python",
   "name": "python3"
  },
  "language_info": {
   "codemirror_mode": {
    "name": "ipython",
    "version": 3
   },
   "file_extension": ".py",
   "mimetype": "text/x-python",
   "name": "python",
   "nbconvert_exporter": "python",
   "pygments_lexer": "ipython3",
   "version": "3.12.4"
  }
 },
 "nbformat": 4,
 "nbformat_minor": 5
}
