{
 "cells": [
  {
   "cell_type": "markdown",
   "id": "d1678a2a-9053-44cb-8d20-b4f175dd6c66",
   "metadata": {},
   "source": [
    "## Mean-Median-Mode"
   ]
  },
  {
   "cell_type": "code",
   "execution_count": 2,
   "id": "7ef05543-6ed7-4445-9ba6-c8560d8e4b64",
   "metadata": {},
   "outputs": [],
   "source": [
    "import numpy as np\n",
    "import pandas as pd\n",
    "import matplotlib.pyplot as plt"
   ]
  },
  {
   "cell_type": "markdown",
   "id": "a6b81c75-9a7f-40ca-8193-849bcc6cce10",
   "metadata": {},
   "source": [
    "## Using sklearn-libarires"
   ]
  },
  {
   "cell_type": "code",
   "execution_count": 4,
   "id": "74752869-6b06-440b-9594-af99baf8935a",
   "metadata": {},
   "outputs": [],
   "source": [
    "from sklearn.model_selection import train_test_split\n",
    "from sklearn.impute import SimpleImputer\n",
    "from sklearn.compose import ColumnTransformer"
   ]
  },
  {
   "cell_type": "code",
   "execution_count": 5,
   "id": "cbc3bbdd-802d-40cf-9218-4546534ac703",
   "metadata": {},
   "outputs": [],
   "source": [
    "df=pd.read_csv('titanic_toy.csv')"
   ]
  },
  {
   "cell_type": "code",
   "execution_count": 6,
   "id": "c0a5dddc-09f9-48a5-a09b-b1fef824fb99",
   "metadata": {},
   "outputs": [
    {
     "name": "stdout",
     "output_type": "stream",
     "text": [
      "<class 'pandas.core.frame.DataFrame'>\n",
      "RangeIndex: 891 entries, 0 to 890\n",
      "Data columns (total 4 columns):\n",
      " #   Column    Non-Null Count  Dtype  \n",
      "---  ------    --------------  -----  \n",
      " 0   Age       714 non-null    float64\n",
      " 1   Fare      846 non-null    float64\n",
      " 2   Family    891 non-null    int64  \n",
      " 3   Survived  891 non-null    int64  \n",
      "dtypes: float64(2), int64(2)\n",
      "memory usage: 28.0 KB\n"
     ]
    }
   ],
   "source": [
    "df.info()\n"
   ]
  },
  {
   "cell_type": "code",
   "execution_count": 7,
   "id": "35f52801-41c5-472f-8f47-11d5c13c6ceb",
   "metadata": {},
   "outputs": [
    {
     "data": {
      "text/html": [
       "<div>\n",
       "<style scoped>\n",
       "    .dataframe tbody tr th:only-of-type {\n",
       "        vertical-align: middle;\n",
       "    }\n",
       "\n",
       "    .dataframe tbody tr th {\n",
       "        vertical-align: top;\n",
       "    }\n",
       "\n",
       "    .dataframe thead th {\n",
       "        text-align: right;\n",
       "    }\n",
       "</style>\n",
       "<table border=\"1\" class=\"dataframe\">\n",
       "  <thead>\n",
       "    <tr style=\"text-align: right;\">\n",
       "      <th></th>\n",
       "      <th>Age</th>\n",
       "      <th>Fare</th>\n",
       "      <th>Family</th>\n",
       "      <th>Survived</th>\n",
       "    </tr>\n",
       "  </thead>\n",
       "  <tbody>\n",
       "    <tr>\n",
       "      <th>0</th>\n",
       "      <td>22.0</td>\n",
       "      <td>7.2500</td>\n",
       "      <td>1</td>\n",
       "      <td>0</td>\n",
       "    </tr>\n",
       "    <tr>\n",
       "      <th>1</th>\n",
       "      <td>38.0</td>\n",
       "      <td>71.2833</td>\n",
       "      <td>1</td>\n",
       "      <td>1</td>\n",
       "    </tr>\n",
       "    <tr>\n",
       "      <th>2</th>\n",
       "      <td>26.0</td>\n",
       "      <td>7.9250</td>\n",
       "      <td>0</td>\n",
       "      <td>1</td>\n",
       "    </tr>\n",
       "    <tr>\n",
       "      <th>3</th>\n",
       "      <td>35.0</td>\n",
       "      <td>53.1000</td>\n",
       "      <td>1</td>\n",
       "      <td>1</td>\n",
       "    </tr>\n",
       "    <tr>\n",
       "      <th>4</th>\n",
       "      <td>35.0</td>\n",
       "      <td>8.0500</td>\n",
       "      <td>0</td>\n",
       "      <td>0</td>\n",
       "    </tr>\n",
       "  </tbody>\n",
       "</table>\n",
       "</div>"
      ],
      "text/plain": [
       "    Age     Fare  Family  Survived\n",
       "0  22.0   7.2500       1         0\n",
       "1  38.0  71.2833       1         1\n",
       "2  26.0   7.9250       0         1\n",
       "3  35.0  53.1000       1         1\n",
       "4  35.0   8.0500       0         0"
      ]
     },
     "execution_count": 7,
     "metadata": {},
     "output_type": "execute_result"
    }
   ],
   "source": [
    "df.head()"
   ]
  },
  {
   "cell_type": "code",
   "execution_count": 8,
   "id": "5c63fc64-67ae-4622-ae0f-28b5f87ca4fe",
   "metadata": {},
   "outputs": [
    {
     "data": {
      "text/html": [
       "<div>\n",
       "<style scoped>\n",
       "    .dataframe tbody tr th:only-of-type {\n",
       "        vertical-align: middle;\n",
       "    }\n",
       "\n",
       "    .dataframe tbody tr th {\n",
       "        vertical-align: top;\n",
       "    }\n",
       "\n",
       "    .dataframe thead th {\n",
       "        text-align: right;\n",
       "    }\n",
       "</style>\n",
       "<table border=\"1\" class=\"dataframe\">\n",
       "  <thead>\n",
       "    <tr style=\"text-align: right;\">\n",
       "      <th></th>\n",
       "      <th>Age</th>\n",
       "      <th>Fare</th>\n",
       "      <th>Family</th>\n",
       "      <th>Survived</th>\n",
       "    </tr>\n",
       "  </thead>\n",
       "  <tbody>\n",
       "    <tr>\n",
       "      <th>0</th>\n",
       "      <td>22.0</td>\n",
       "      <td>7.2500</td>\n",
       "      <td>1</td>\n",
       "      <td>0</td>\n",
       "    </tr>\n",
       "    <tr>\n",
       "      <th>1</th>\n",
       "      <td>38.0</td>\n",
       "      <td>71.2833</td>\n",
       "      <td>1</td>\n",
       "      <td>1</td>\n",
       "    </tr>\n",
       "    <tr>\n",
       "      <th>2</th>\n",
       "      <td>26.0</td>\n",
       "      <td>7.9250</td>\n",
       "      <td>0</td>\n",
       "      <td>1</td>\n",
       "    </tr>\n",
       "    <tr>\n",
       "      <th>3</th>\n",
       "      <td>35.0</td>\n",
       "      <td>53.1000</td>\n",
       "      <td>1</td>\n",
       "      <td>1</td>\n",
       "    </tr>\n",
       "    <tr>\n",
       "      <th>4</th>\n",
       "      <td>35.0</td>\n",
       "      <td>8.0500</td>\n",
       "      <td>0</td>\n",
       "      <td>0</td>\n",
       "    </tr>\n",
       "    <tr>\n",
       "      <th>...</th>\n",
       "      <td>...</td>\n",
       "      <td>...</td>\n",
       "      <td>...</td>\n",
       "      <td>...</td>\n",
       "    </tr>\n",
       "    <tr>\n",
       "      <th>886</th>\n",
       "      <td>27.0</td>\n",
       "      <td>13.0000</td>\n",
       "      <td>0</td>\n",
       "      <td>0</td>\n",
       "    </tr>\n",
       "    <tr>\n",
       "      <th>887</th>\n",
       "      <td>19.0</td>\n",
       "      <td>30.0000</td>\n",
       "      <td>0</td>\n",
       "      <td>1</td>\n",
       "    </tr>\n",
       "    <tr>\n",
       "      <th>888</th>\n",
       "      <td>NaN</td>\n",
       "      <td>23.4500</td>\n",
       "      <td>3</td>\n",
       "      <td>0</td>\n",
       "    </tr>\n",
       "    <tr>\n",
       "      <th>889</th>\n",
       "      <td>26.0</td>\n",
       "      <td>NaN</td>\n",
       "      <td>0</td>\n",
       "      <td>1</td>\n",
       "    </tr>\n",
       "    <tr>\n",
       "      <th>890</th>\n",
       "      <td>32.0</td>\n",
       "      <td>7.7500</td>\n",
       "      <td>0</td>\n",
       "      <td>0</td>\n",
       "    </tr>\n",
       "  </tbody>\n",
       "</table>\n",
       "<p>891 rows × 4 columns</p>\n",
       "</div>"
      ],
      "text/plain": [
       "      Age     Fare  Family  Survived\n",
       "0    22.0   7.2500       1         0\n",
       "1    38.0  71.2833       1         1\n",
       "2    26.0   7.9250       0         1\n",
       "3    35.0  53.1000       1         1\n",
       "4    35.0   8.0500       0         0\n",
       "..    ...      ...     ...       ...\n",
       "886  27.0  13.0000       0         0\n",
       "887  19.0  30.0000       0         1\n",
       "888   NaN  23.4500       3         0\n",
       "889  26.0      NaN       0         1\n",
       "890  32.0   7.7500       0         0\n",
       "\n",
       "[891 rows x 4 columns]"
      ]
     },
     "execution_count": 8,
     "metadata": {},
     "output_type": "execute_result"
    }
   ],
   "source": [
    "df"
   ]
  },
  {
   "cell_type": "markdown",
   "id": "49fdb045-cbc6-481e-9640-1126ce54737e",
   "metadata": {},
   "source": [
    "## Perfrom Train Test Split"
   ]
  },
  {
   "cell_type": "code",
   "execution_count": 10,
   "id": "77523154-8f16-4ec1-850d-5f977bd75b5b",
   "metadata": {},
   "outputs": [],
   "source": [
    "x=df.drop(columns=['Survived'])"
   ]
  },
  {
   "cell_type": "code",
   "execution_count": 11,
   "id": "b34987dd-169a-45ef-af05-3ad4830e0194",
   "metadata": {},
   "outputs": [],
   "source": [
    "y=df['Survived']"
   ]
  },
  {
   "cell_type": "code",
   "execution_count": 12,
   "id": "7706d57c-45c8-4c73-8597-50c568e409d2",
   "metadata": {},
   "outputs": [],
   "source": [
    "x_train,x_test,y_train,y_test=train_test_split(x,y,test_size=0.2,random_state=2)"
   ]
  },
  {
   "cell_type": "code",
   "execution_count": 13,
   "id": "76db8d92-49e2-476c-b62f-ed511739c432",
   "metadata": {},
   "outputs": [
    {
     "data": {
      "text/plain": [
       "((712, 3), (179, 3))"
      ]
     },
     "execution_count": 13,
     "metadata": {},
     "output_type": "execute_result"
    }
   ],
   "source": [
    "x_train.shape,x_test.shape"
   ]
  },
  {
   "cell_type": "code",
   "execution_count": 14,
   "id": "f121695c-e7d5-41ee-8393-762991d6225e",
   "metadata": {},
   "outputs": [
    {
     "data": {
      "text/plain": [
       "Age       0.207865\n",
       "Fare      0.050562\n",
       "Family    0.000000\n",
       "dtype: float64"
      ]
     },
     "execution_count": 14,
     "metadata": {},
     "output_type": "execute_result"
    }
   ],
   "source": [
    "x_train.isnull().mean()"
   ]
  },
  {
   "cell_type": "markdown",
   "id": "db5d29e6-a587-410e-a49c-e08e0df2bc65",
   "metadata": {},
   "source": [
    "## Calculate Mean & Median (Age | Fare)"
   ]
  },
  {
   "cell_type": "markdown",
   "id": "66b6e919-da9f-4119-b523-f349ac080a11",
   "metadata": {},
   "source": [
    "mean_age= x_train['Age'].mean()\n",
    "median_age= x_train['Age'].median()\n",
    "\n",
    "mean_fare=x_train['Fare'].mean()\n",
    "median_fare=x_train['Fare'].median()"
   ]
  },
  {
   "cell_type": "markdown",
   "id": "ab850db8-2b3d-4876-ad2d-7125226c12c1",
   "metadata": {},
   "source": [
    "## Create new column & impute missing values"
   ]
  },
  {
   "cell_type": "code",
   "execution_count": 18,
   "id": "5a6d3ec2-9de3-4b7a-aecf-9800fe60ae23",
   "metadata": {},
   "outputs": [
    {
     "ename": "NameError",
     "evalue": "name 'median_age' is not defined",
     "output_type": "error",
     "traceback": [
      "\u001b[1;31m---------------------------------------------------------------------------\u001b[0m",
      "\u001b[1;31mNameError\u001b[0m                                 Traceback (most recent call last)",
      "Cell \u001b[1;32mIn[18], line 1\u001b[0m\n\u001b[1;32m----> 1\u001b[0m x_train[\u001b[38;5;124m'\u001b[39m\u001b[38;5;124mAge_median\u001b[39m\u001b[38;5;124m'\u001b[39m]\u001b[38;5;241m=\u001b[39m x_train[\u001b[38;5;124m'\u001b[39m\u001b[38;5;124mAge\u001b[39m\u001b[38;5;124m'\u001b[39m]\u001b[38;5;241m.\u001b[39mfillna(median_age)\n\u001b[0;32m      3\u001b[0m x_train[\u001b[38;5;124m'\u001b[39m\u001b[38;5;124mAge_mean\u001b[39m\u001b[38;5;124m'\u001b[39m]\u001b[38;5;241m=\u001b[39m x_train[\u001b[38;5;124m'\u001b[39m\u001b[38;5;124mAge\u001b[39m\u001b[38;5;124m'\u001b[39m]\u001b[38;5;241m.\u001b[39mfillna(mean_age)\n\u001b[0;32m      5\u001b[0m x_train[\u001b[38;5;124m'\u001b[39m\u001b[38;5;124mFare_median\u001b[39m\u001b[38;5;124m'\u001b[39m]\u001b[38;5;241m=\u001b[39mx_train[\u001b[38;5;124m'\u001b[39m\u001b[38;5;124mFare\u001b[39m\u001b[38;5;124m'\u001b[39m]\u001b[38;5;241m.\u001b[39mfillna(median_fare)\n",
      "\u001b[1;31mNameError\u001b[0m: name 'median_age' is not defined"
     ]
    }
   ],
   "source": [
    "x_train['Age_median']= x_train['Age'].fillna(median_age)\n",
    "\n",
    "x_train['Age_mean']= x_train['Age'].fillna(mean_age)\n",
    "\n",
    "x_train['Fare_median']=x_train['Fare'].fillna(median_fare)\n",
    "\n",
    "x_train['Fare_mean']=x_train['Fare'].fillna(mean_fare)"
   ]
  },
  {
   "cell_type": "code",
   "execution_count": null,
   "id": "8dc5bde7-522b-41fa-aef5-8ccc50e53eee",
   "metadata": {},
   "outputs": [],
   "source": [
    "x_train.sample(8)"
   ]
  },
  {
   "cell_type": "markdown",
   "id": "66bbfb5a-3978-4d8c-a5c3-4d075e132e8e",
   "metadata": {},
   "source": [
    "## Review Variance"
   ]
  },
  {
   "cell_type": "code",
   "execution_count": null,
   "id": "f057892a-0cf6-4c3a-a2ca-a2ccfd98af4a",
   "metadata": {},
   "outputs": [],
   "source": [
    "print('Original Age Variable variance:',x_train['Age'].var())\n",
    "\n",
    "print('Age Variance after median imputation:', x_train['Age_median'].var())\n",
    "\n",
    "print('Age Variance after mean imputation:',x_train['Age_mean'].var())\n",
    "\n",
    "print('Original Fare Variable variance:',x_train['Fare'].var())\n",
    "\n",
    "print('Fare Variance after median imputation:',x_train['Fare_median'].var())\n",
    "\n",
    "print('Fare Variance after mean imputation:',x_train['Fare_mean'].var())"
   ]
  },
  {
   "cell_type": "markdown",
   "id": "37e687e6-34a2-4c36-82a4-704206a1948b",
   "metadata": {},
   "source": [
    "## Changes in Distribution in Age"
   ]
  },
  {
   "cell_type": "code",
   "execution_count": null,
   "id": "e2ffa888-8263-4c95-a66f-33a24a7bba4a",
   "metadata": {},
   "outputs": [],
   "source": [
    "fig = plt.figure()\n",
    "ax = fig.add_subplot(111)\n",
    "# original variable distribution\n",
    "x_train['Age'].plot(kind='kde', ax=ax)\n",
    "# variable imputed with the median\n",
    "x_train['Age_median'].plot(kind='kde', ax=ax,\n",
    "color='red')\n",
    "# variable imputed with the mean\n",
    "x_train['Age_mean'].plot(kind='kde', ax=ax,\n",
    "color='green')\n",
    "# add legends\n",
    "lines, labels = ax.get_legend_handles_labels()\n",
    "ax.legend(lines, labels, loc='best')\n"
   ]
  },
  {
   "cell_type": "markdown",
   "id": "fb6844fe-4672-4cf7-b568-ae9f0af951d9",
   "metadata": {},
   "source": [
    "## Changes in Distribution in Fare"
   ]
  },
  {
   "cell_type": "code",
   "execution_count": null,
   "id": "e53f0e6c-34e5-4bff-95a1-1b82e830e0d8",
   "metadata": {},
   "outputs": [],
   "source": [
    "fig = plt.figure()\n",
    "ax = fig.add_subplot(111)\n",
    "# original variable distribution\n",
    "x_train['Fare'].plot(kind='kde', ax=ax)\n",
    "# variable imputed with the median\n",
    "x_train['Fare_median'].plot(kind='kde', ax=ax,\n",
    "color='red')\n",
    "# variable imputed with the mean\n",
    "x_train['Fare_mean'].plot(kind='kde', ax=ax,\n",
    "color='green')\n",
    "# add legends\n",
    "lines, labels = ax.get_legend_handles_labels()\n",
    "ax.legend(lines, labels, loc='best')"
   ]
  },
  {
   "cell_type": "markdown",
   "id": "39326797-4599-4ea7-93c9-891e98331a3f",
   "metadata": {},
   "source": [
    "## Check Covariance"
   ]
  },
  {
   "cell_type": "code",
   "execution_count": null,
   "id": "d606cb29-2f4e-4f97-b0f7-3be4841ed277",
   "metadata": {
    "scrolled": true
   },
   "outputs": [],
   "source": [
    "x_train.cov()"
   ]
  },
  {
   "cell_type": "markdown",
   "id": "73d29267-b4dd-4a28-9fc9-65392dd65a7e",
   "metadata": {},
   "source": [
    "## Check Correlation"
   ]
  },
  {
   "cell_type": "code",
   "execution_count": null,
   "id": "202daebc-7bbb-4399-bbf0-0f5f24902f3e",
   "metadata": {},
   "outputs": [],
   "source": [
    "x_train.corr()"
   ]
  },
  {
   "cell_type": "markdown",
   "id": "fe2d4368-6e42-4641-938f-b27c8a6acb78",
   "metadata": {},
   "source": [
    "## Box Plot for Age\n"
   ]
  },
  {
   "cell_type": "code",
   "execution_count": null,
   "id": "d8dd8bd0-b309-4b2e-8aa3-3c3d9e57cc09",
   "metadata": {},
   "outputs": [],
   "source": [
    "x_train[['Age','Age_median','Age_mean']].boxplot()"
   ]
  },
  {
   "cell_type": "markdown",
   "id": "7bc30714-d7ce-4e36-8e84-23c0b9ec763f",
   "metadata": {},
   "source": [
    "## Box plot for Fare"
   ]
  },
  {
   "cell_type": "code",
   "execution_count": null,
   "id": "17340c15-c18a-4f39-8415-d9d1fe15edef",
   "metadata": {},
   "outputs": [],
   "source": [
    "x_train[['Fare','Fare_median','Fare_mean']].boxplot()"
   ]
  },
  {
   "cell_type": "code",
   "execution_count": null,
   "id": "852cea14-ba7e-4876-90b7-f564157bc3a7",
   "metadata": {},
   "outputs": [],
   "source": []
  }
 ],
 "metadata": {
  "kernelspec": {
   "display_name": "Python 3 (ipykernel)",
   "language": "python",
   "name": "python3"
  },
  "language_info": {
   "codemirror_mode": {
    "name": "ipython",
    "version": 3
   },
   "file_extension": ".py",
   "mimetype": "text/x-python",
   "name": "python",
   "nbconvert_exporter": "python",
   "pygments_lexer": "ipython3",
   "version": "3.12.4"
  }
 },
 "nbformat": 4,
 "nbformat_minor": 5
}
